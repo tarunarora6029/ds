{
 "cells": [
  {
   "cell_type": "code",
   "execution_count": 204,
   "id": "adcc9e1d-8ece-41bd-9a9b-4f5bd6cf9f3b",
   "metadata": {},
   "outputs": [],
   "source": [
    "from pyspark.sql import SparkSession\n",
    "from pyspark.ml.feature import VectorAssembler\n",
    "from pyspark.ml.feature import StringIndexer, Imputer, MinMaxScaler\n",
    "from pyspark.ml.feature import StandardScaler\n",
    "from pyspark.ml.classification import MultilayerPerceptronClassifier\n",
    "from pyspark.ml.evaluation import MulticlassClassificationEvaluator, BinaryClassificationEvaluator\n",
    "from pyspark.ml import Pipeline"
   ]
  },
  {
   "cell_type": "code",
   "execution_count": 205,
   "id": "4d1df97b-6b36-4c31-a5cd-6ed1112734a4",
   "metadata": {},
   "outputs": [],
   "source": [
    "if __name__==\"__main__\":\n",
    "    spark=SparkSession\\\n",
    "    .builder\\\n",
    "    .appName(\"DiseaseTypewithSpark\")\\\n",
    "    .getOrCreate()"
   ]
  },
  {
   "cell_type": "code",
   "execution_count": 206,
   "id": "804ef6f1-3623-4556-bc7c-865b9551fc86",
   "metadata": {},
   "outputs": [],
   "source": [
    "data=spark.read.csv(\"Disease_Prediction.csv\",header=True)"
   ]
  },
  {
   "cell_type": "code",
   "execution_count": 207,
   "id": "6a2170da-d724-4298-9f95-5d4593f930e9",
   "metadata": {},
   "outputs": [
    {
     "data": {
      "text/plain": [
       "DataFrame[feature_1: string, feature_2: string, feature_3: string, feature_4: string, Disease_Type: string]"
      ]
     },
     "metadata": {},
     "output_type": "display_data"
    }
   ],
   "source": [
    "display(data)"
   ]
  },
  {
   "cell_type": "code",
   "execution_count": 208,
   "id": "57411ae9-857a-4fc3-8fed-7bee5a054cba",
   "metadata": {},
   "outputs": [
    {
     "name": "stdout",
     "output_type": "stream",
     "text": [
      "+---------+---------+---------+---------+------------+\n",
      "|feature_1|feature_2|feature_3|feature_4|Disease_Type|\n",
      "+---------+---------+---------+---------+------------+\n",
      "|   3.6216|   8.6661|  -2.8073| -0.44699|           0|\n",
      "|   4.5459|   8.1674|  -2.4586|  -1.4621|           0|\n",
      "|    3.866|  -2.6383|   1.9242|  0.10645|           0|\n",
      "|   3.4566|   9.5228|  -4.0112|  -3.5944|           0|\n",
      "|  0.32924|  -4.4552|   4.5718|  -0.9888|           0|\n",
      "|       na|   9.6718|  -3.9606|  -3.1625|           0|\n",
      "|   3.5912|   3.0129|  0.72888|  0.56421|           0|\n",
      "|   2.0922|    -6.81|   8.4636| -0.60216|           0|\n",
      "|   3.2032|   5.7588| -0.75345| -0.61251|           0|\n",
      "|   1.5356|   9.1772|  -2.2718| -0.73535|           0|\n",
      "|   1.2247|   8.7779|  -2.2135| -0.80647|           0|\n",
      "|   3.9899|  -2.7066|   2.3946|  0.86291|           0|\n",
      "|   1.8993|   7.6625|  0.15394|  -3.1108|           0|\n",
      "|  -1.5768|   10.843|   2.5462|  -2.9362|           0|\n",
      "|    3.404|   8.7261|  -2.9915| -0.57242|           0|\n",
      "|   4.6765|  -3.3895|   3.4896|   1.4771|           0|\n",
      "|   2.6719|   3.0646|  0.37158|  0.58619|           0|\n",
      "|  0.80355|   2.8473|   4.3439|   0.6017|           0|\n",
      "|   1.4479|       na|   8.3428|  -2.1086|           0|\n",
      "|   5.2423|  11.0272|   -4.353|  -4.1013|           0|\n",
      "+---------+---------+---------+---------+------------+\n",
      "only showing top 20 rows\n",
      "\n"
     ]
    }
   ],
   "source": [
    "data.show()"
   ]
  },
  {
   "cell_type": "code",
   "execution_count": 209,
   "id": "e4f26fec-190d-4147-bc48-a59b4fba143a",
   "metadata": {},
   "outputs": [],
   "source": [
    "for col in data.columns:\n",
    "    data=data.withColumn(col,data[col].cast('double'))"
   ]
  },
  {
   "cell_type": "code",
   "execution_count": 210,
   "id": "a7138f7d-b81b-44cc-800e-e0e79fe2665c",
   "metadata": {},
   "outputs": [],
   "source": [
    "input_columns=data.columns[:-1]"
   ]
  },
  {
   "cell_type": "code",
   "execution_count": 211,
   "id": "cd3e2cfd-7198-43ec-9b68-1de272009c69",
   "metadata": {},
   "outputs": [],
   "source": [
    "imputed_columns=['f_{}'.format(i+1) for i in range(len(input_columns))]"
   ]
  },
  {
   "cell_type": "code",
   "execution_count": 212,
   "id": "825ec156-8f2b-4210-8331-38d14f9143ac",
   "metadata": {},
   "outputs": [],
   "source": [
    "model=Imputer(strategy='mean',missingValue=None,inputCols=input_columns,outputCols=imputed_columns).fit(data)\n",
    "impute_data=model.transform(data)"
   ]
  },
  {
   "cell_type": "code",
   "execution_count": 213,
   "id": "265c8dc3-8748-467b-92cc-5c1bea4bc99e",
   "metadata": {},
   "outputs": [
    {
     "name": "stdout",
     "output_type": "stream",
     "text": [
      "+---------+---------+---------+---------+------------+------------------+------------------+--------+--------+\n",
      "|feature_1|feature_2|feature_3|feature_4|Disease_Type|               f_1|               f_2|     f_3|     f_4|\n",
      "+---------+---------+---------+---------+------------+------------------+------------------+--------+--------+\n",
      "|   3.6216|   8.6661|  -2.8073| -0.44699|         0.0|            3.6216|            8.6661| -2.8073|-0.44699|\n",
      "|   4.5459|   8.1674|  -2.4586|  -1.4621|         0.0|            4.5459|            8.1674| -2.4586| -1.4621|\n",
      "|    3.866|  -2.6383|   1.9242|  0.10645|         0.0|             3.866|           -2.6383|  1.9242| 0.10645|\n",
      "|   3.4566|   9.5228|  -4.0112|  -3.5944|         0.0|            3.4566|            9.5228| -4.0112| -3.5944|\n",
      "|  0.32924|  -4.4552|   4.5718|  -0.9888|         0.0|           0.32924|           -4.4552|  4.5718| -0.9888|\n",
      "|     NULL|   9.6718|  -3.9606|  -3.1625|         0.0|0.4308653338439095|            9.6718| -3.9606| -3.1625|\n",
      "|   3.5912|   3.0129|  0.72888|  0.56421|         0.0|            3.5912|            3.0129| 0.72888| 0.56421|\n",
      "|   2.0922|    -6.81|   8.4636| -0.60216|         0.0|            2.0922|             -6.81|  8.4636|-0.60216|\n",
      "|   3.2032|   5.7588| -0.75345| -0.61251|         0.0|            3.2032|            5.7588|-0.75345|-0.61251|\n",
      "|   1.5356|   9.1772|  -2.2718| -0.73535|         0.0|            1.5356|            9.1772| -2.2718|-0.73535|\n",
      "|   1.2247|   8.7779|  -2.2135| -0.80647|         0.0|            1.2247|            8.7779| -2.2135|-0.80647|\n",
      "|   3.9899|  -2.7066|   2.3946|  0.86291|         0.0|            3.9899|           -2.7066|  2.3946| 0.86291|\n",
      "|   1.8993|   7.6625|  0.15394|  -3.1108|         0.0|            1.8993|            7.6625| 0.15394| -3.1108|\n",
      "|  -1.5768|   10.843|   2.5462|  -2.9362|         0.0|           -1.5768|            10.843|  2.5462| -2.9362|\n",
      "|    3.404|   8.7261|  -2.9915| -0.57242|         0.0|             3.404|            8.7261| -2.9915|-0.57242|\n",
      "|   4.6765|  -3.3895|   3.4896|   1.4771|         0.0|            4.6765|           -3.3895|  3.4896|  1.4771|\n",
      "|   2.6719|   3.0646|  0.37158|  0.58619|         0.0|            2.6719|            3.0646| 0.37158| 0.58619|\n",
      "|  0.80355|   2.8473|   4.3439|   0.6017|         0.0|           0.80355|            2.8473|  4.3439|  0.6017|\n",
      "|   1.4479|     NULL|   8.3428|  -2.1086|         0.0|            1.4479|1.9273142826549978|  8.3428| -2.1086|\n",
      "|   5.2423|  11.0272|   -4.353|  -4.1013|         0.0|            5.2423|           11.0272|  -4.353| -4.1013|\n",
      "+---------+---------+---------+---------+------------+------------------+------------------+--------+--------+\n",
      "only showing top 20 rows\n",
      "\n"
     ]
    }
   ],
   "source": [
    "impute_data.show()"
   ]
  },
  {
   "cell_type": "code",
   "execution_count": 214,
   "id": "c6314173-aff9-4776-baa5-69cd1b9c6403",
   "metadata": {},
   "outputs": [],
   "source": [
    "a = VectorAssembler(inputCols=imputed_columns, outputCol='assembled_features', handleInvalid='error')\n",
    "a_data = a.transform(impute_data)"
   ]
  },
  {
   "cell_type": "code",
   "execution_count": 215,
   "id": "8fe4a3fb-1879-4ccb-b111-56f71fe241b6",
   "metadata": {},
   "outputs": [],
   "source": [
    "s = MinMaxScaler(min=0.0, max=1.0, inputCol='assembled_features', outputCol='features')\n",
    "s_data = s.fit(a_data).transform(a_data)"
   ]
  },
  {
   "cell_type": "code",
   "execution_count": 216,
   "id": "6e37eda2-dfb8-4ed5-92c3-bc4909ec5560",
   "metadata": {},
   "outputs": [
    {
     "data": {
      "text/plain": [
       "DataFrame[feature_1: double, feature_2: double, feature_3: double, feature_4: double, Disease_Type: double, f_1: double, f_2: double, f_3: double, f_4: double, assembled_features: vector, features: vector]"
      ]
     },
     "metadata": {},
     "output_type": "display_data"
    }
   ],
   "source": [
    "display(s_data)"
   ]
  },
  {
   "cell_type": "code",
   "execution_count": 217,
   "id": "b6dd744d-e373-4880-a18c-ed526e4e2793",
   "metadata": {},
   "outputs": [],
   "source": [
    "s_data = s_data.withColumnRenamed('Disease_Type','label')"
   ]
  },
  {
   "cell_type": "code",
   "execution_count": 218,
   "id": "8fb7c678-7528-4597-95d9-2e284f59f869",
   "metadata": {},
   "outputs": [
    {
     "data": {
      "text/plain": [
       "DataFrame[feature_1: double, feature_2: double, feature_3: double, feature_4: double, label: double, f_1: double, f_2: double, f_3: double, f_4: double, assembled_features: vector, features: vector]"
      ]
     },
     "metadata": {},
     "output_type": "display_data"
    }
   ],
   "source": [
    "display(s_data)"
   ]
  },
  {
   "cell_type": "code",
   "execution_count": 219,
   "id": "0617e5fc-120f-4660-a5bc-31e591bfa1c7",
   "metadata": {},
   "outputs": [
    {
     "name": "stdout",
     "output_type": "stream",
     "text": [
      "+-----+--------------------+\n",
      "|label|            features|\n",
      "+-----+--------------------+\n",
      "|  0.0|[0.76900388695382...|\n",
      "|  0.0|[0.83565901535310...|\n",
      "|  0.0|[0.78662859038429...|\n",
      "|  0.0|[0.75710504871312...|\n",
      "|  0.0|[0.53157807440740...|\n",
      "|  0.0|[0.53890670112598...|\n",
      "|  0.0|[0.76681161615068...|\n",
      "|  0.0|[0.65871247358818...|\n",
      "|  0.0|[0.73883131774224...|\n",
      "|  0.0|[0.61857372592288...|\n",
      "|  0.0|[0.59615343011055...|\n",
      "|  0.0|[0.79556353619049...|\n",
      "|  0.0|[0.64480164997223...|\n",
      "|  0.0|[0.39412557961765...|\n",
      "|  0.0|[0.75331184331032...|\n",
      "|  0.0|[0.84507712610605...|\n",
      "|  0.0|[0.70051705860718...|\n",
      "|  0.0|[0.56578254692829...|\n",
      "|  0.0|[0.61224931311251...|\n",
      "|  0.0|[0.88587932414598...|\n",
      "+-----+--------------------+\n",
      "only showing top 20 rows\n",
      "\n"
     ]
    }
   ],
   "source": [
    "d= ['label','features']\n",
    "s_data.select(*d).show()"
   ]
  },
  {
   "cell_type": "code",
   "execution_count": null,
   "id": "be6fdca5-ce13-4dac-bd86-a9a48bc62266",
   "metadata": {},
   "outputs": [],
   "source": []
  },
  {
   "cell_type": "code",
   "execution_count": 220,
   "id": "a0fbf7f6-d93b-4b51-9b21-5667ace4ca13",
   "metadata": {},
   "outputs": [
    {
     "name": "stdout",
     "output_type": "stream",
     "text": [
      "+-----+--------------------+\n",
      "|label|            features|\n",
      "+-----+--------------------+\n",
      "|  0.0|[0.76900388695382...|\n",
      "|  0.0|[0.83565901535310...|\n",
      "|  0.0|[0.78662859038429...|\n",
      "|  0.0|[0.75710504871312...|\n",
      "|  0.0|[0.53157807440740...|\n",
      "|  0.0|[0.53890670112598...|\n",
      "|  0.0|[0.76681161615068...|\n",
      "|  0.0|[0.65871247358818...|\n",
      "|  0.0|[0.73883131774224...|\n",
      "|  0.0|[0.61857372592288...|\n",
      "|  0.0|[0.59615343011055...|\n",
      "|  0.0|[0.79556353619049...|\n",
      "|  0.0|[0.64480164997223...|\n",
      "|  0.0|[0.39412557961765...|\n",
      "|  0.0|[0.75331184331032...|\n",
      "|  0.0|[0.84507712610605...|\n",
      "|  0.0|[0.70051705860718...|\n",
      "|  0.0|[0.56578254692829...|\n",
      "|  0.0|[0.61224931311251...|\n",
      "|  0.0|[0.88587932414598...|\n",
      "+-----+--------------------+\n",
      "only showing top 20 rows\n",
      "\n"
     ]
    }
   ],
   "source": [
    "col = ['label','features']\n",
    "s_data.select(*col).show()"
   ]
  },
  {
   "cell_type": "code",
   "execution_count": 221,
   "id": "f098fb1f-0b71-482c-9f58-7caae337051a",
   "metadata": {},
   "outputs": [],
   "source": [
    "train_df,test_df = s_data.select('label','features').randomSplit([0.7,0.3],1213)"
   ]
  },
  {
   "cell_type": "code",
   "execution_count": 222,
   "id": "fe8b701e-33e3-43f0-b8c8-3cf06123c40e",
   "metadata": {},
   "outputs": [
    {
     "name": "stdout",
     "output_type": "stream",
     "text": [
      "+-----+--------------------+\n",
      "|label|            features|\n",
      "+-----+--------------------+\n",
      "|  0.0|[0.19876107853954...|\n",
      "|  0.0|[0.31320626816375...|\n",
      "|  0.0|[0.32870360354513...|\n",
      "|  0.0|[0.33488378801318...|\n",
      "|  0.0|[0.36600826428401...|\n",
      "|  0.0|[0.37781335410221...|\n",
      "|  0.0|[0.38120993156365...|\n",
      "|  0.0|[0.38276038624350...|\n",
      "|  0.0|[0.38558726175280...|\n",
      "|  0.0|[0.39912309167874...|\n",
      "|  0.0|[0.39926732002105...|\n",
      "|  0.0|[0.41408678219356...|\n",
      "|  0.0|[0.41408678219356...|\n",
      "|  0.0|[0.42568995233253...|\n",
      "|  0.0|[0.42625244286754...|\n",
      "|  0.0|[0.42711781292141...|\n",
      "|  0.0|[0.44169352919542...|\n",
      "|  0.0|[0.45695144552856...|\n",
      "|  0.0|[0.47533911688986...|\n",
      "|  0.0|[0.47912222630869...|\n",
      "+-----+--------------------+\n",
      "only showing top 20 rows\n",
      "\n"
     ]
    }
   ],
   "source": [
    "test_df.show()"
   ]
  },
  {
   "cell_type": "code",
   "execution_count": 223,
   "id": "39048d67-b0ec-4a3e-89c6-0632953d4c33",
   "metadata": {},
   "outputs": [],
   "source": [
    "mlpc=MultilayerPerceptronClassifier( featuresCol='features',labelCol='label',layers = [4,16,2],\\\n",
    "                                    maxIter=1000,blockSize=8,seed=7,solver='gd')"
   ]
  },
  {
   "cell_type": "code",
   "execution_count": 224,
   "id": "f71a1d8f-4036-4133-b334-5b1bc2223eed",
   "metadata": {},
   "outputs": [],
   "source": [
    "b= mlpc.fit(train_df)"
   ]
  },
  {
   "cell_type": "code",
   "execution_count": 225,
   "id": "826561b9-47d1-41fd-a777-0839a8cad763",
   "metadata": {},
   "outputs": [],
   "source": [
    "predictions = b.transform(test_df)\n",
    "evaluator = MulticlassClassificationEvaluator(labelCol='label',predictionCol='prediction',metricName='f1')"
   ]
  },
  {
   "cell_type": "code",
   "execution_count": 226,
   "id": "f74cd0f4-b257-4730-8fea-6a78f984bd4d",
   "metadata": {},
   "outputs": [
    {
     "data": {
      "text/plain": [
       "DataFrame[label: double, features: vector, rawPrediction: vector, probability: vector, prediction: double]"
      ]
     },
     "execution_count": 226,
     "metadata": {},
     "output_type": "execute_result"
    }
   ],
   "source": [
    "predictions"
   ]
  },
  {
   "cell_type": "code",
   "execution_count": 227,
   "id": "6a9be5f3-7abf-4a0d-b6ed-2ef121bd6f36",
   "metadata": {},
   "outputs": [
    {
     "data": {
      "text/plain": [
       "0.8309986610958963"
      ]
     },
     "execution_count": 227,
     "metadata": {},
     "output_type": "execute_result"
    }
   ],
   "source": [
    "b_f1 = evaluator.evaluate(prediction)\n",
    "b_f1"
   ]
  },
  {
   "cell_type": "code",
   "execution_count": 228,
   "id": "61223102-38e4-4e24-b09c-5b0ed4e0c531",
   "metadata": {},
   "outputs": [],
   "source": [
    "evaluator_accuracy = MulticlassClassificationEvaluator(labelCol='label', predictionCol='prediction', metricName='accuracy')\n",
    "evaluator_precision = MulticlassClassificationEvaluator(labelCol='label', predictionCol='prediction', metricName='weightedPrecision')\n",
    "evaluator_recall = MulticlassClassificationEvaluator(labelCol='label', predictionCol='prediction', metricName='weightedRecall')\n",
    "evaluator_auc = BinaryClassificationEvaluator(labelCol='label', rawPredictionCol='rawPrediction', metricName='areaUnderROC')\n"
   ]
  },
  {
   "cell_type": "code",
   "execution_count": 229,
   "id": "8a45f94c-5c81-492f-9166-60586f58684d",
   "metadata": {},
   "outputs": [],
   "source": [
    "accuracy = evaluator_accuracy.evaluate(predictions)\n",
    "precision = evaluator_precision.evaluate(predictions)\n",
    "recall = evaluator_recall.evaluate(predictions)\n",
    "auc = evaluator_auc.evaluate(predictions)"
   ]
  },
  {
   "cell_type": "code",
   "execution_count": 230,
   "id": "2786cf3f-d5c9-4716-9114-2b56475661de",
   "metadata": {},
   "outputs": [
    {
     "name": "stdout",
     "output_type": "stream",
     "text": [
      "Accuracy: 0.8345323741007195\n",
      "Precision: 0.8402262463849458\n",
      "Recall: 0.8345323741007193\n",
      "F1 Score: 0.8309986610958963\n",
      "Area Under ROC Curve: 0.9093738211995465\n"
     ]
    }
   ],
   "source": [
    "print(\"Accuracy:\", accuracy)\n",
    "print(\"Precision:\", precision)\n",
    "print(\"Recall:\", recall)\n",
    "print(\"F1 Score:\", b_f1)\n",
    "print(\"Area Under ROC Curve:\", auc)"
   ]
  },
  {
   "cell_type": "code",
   "execution_count": null,
   "id": "18e3b524-889b-4307-90ce-e487237f4932",
   "metadata": {},
   "outputs": [],
   "source": []
  }
 ],
 "metadata": {
  "kernelspec": {
   "display_name": "Python 3 (ipykernel)",
   "language": "python",
   "name": "python3"
  },
  "language_info": {
   "codemirror_mode": {
    "name": "ipython",
    "version": 3
   },
   "file_extension": ".py",
   "mimetype": "text/x-python",
   "name": "python",
   "nbconvert_exporter": "python",
   "pygments_lexer": "ipython3",
   "version": "3.9.13"
  }
 },
 "nbformat": 4,
 "nbformat_minor": 5
}
